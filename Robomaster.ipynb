{
  "nbformat": 4,
  "nbformat_minor": 0,
  "metadata": {
    "colab": {
      "provenance": [],
      "include_colab_link": true
    },
    "kernelspec": {
      "name": "python3",
      "display_name": "Python 3"
    },
    "language_info": {
      "name": "python"
    }
  },
  "cells": [
    {
      "cell_type": "markdown",
      "metadata": {
        "id": "view-in-github",
        "colab_type": "text"
      },
      "source": [
        "<a href=\"https://colab.research.google.com/github/sanju4725/rob-master/blob/main/Robomaster.ipynb\" target=\"_parent\"><img src=\"https://colab.research.google.com/assets/colab-badge.svg\" alt=\"Open In Colab\"/></a>"
      ]
    },
    {
      "cell_type": "code",
      "execution_count": null,
      "metadata": {
        "id": "f0oRQ1Buiqho"
      },
      "outputs": [],
      "source": [
        "robot=robot_ctrl\n",
        "gimbal=gimbal_ctrl\n",
        "chassis=chassis_ctrl\n",
        "media=media_ctrl\n",
        "vision=vision_ctrl\n",
        "armor=armor_ctrl\n",
        "led=led_ctrl\n",
        "define=rm_define\n",
        "\n",
        "def move_forward():\n",
        "  chassis.set_wheel_speed(30,30,30,30)\n",
        "  chassis.move(0)\n",
        "\n",
        "def move_backward():\n",
        "  chassis.set_wheel_speed(-30,-30,-30,-30)\n",
        "  chassis.move(0)\n",
        "\n",
        "while True:\n",
        "    robot.set_mode(define.robot_mode_chassis_follow)\n",
        "    armor.set_hit_sensitivity(5)\n",
        "    move_forward()\n",
        "    def armor_hit_detection_bottom_right(msg):\n",
        "      led.set_flash(define.armor_all,2)\n",
        "      chassis.rotate_with_degree(define.clockwise,90)\n",
        "      chassis.move(0)\n",
        "\n",
        "\n",
        "\n",
        "\n"
      ]
    },
    {
      "cell_type": "code",
      "source": [
        "def spin:\n",
        "  make it spin?\n",
        "  set speeds(a,-a,-a,a)\n",
        "\n",
        "def stop:\n",
        "  set speeds(0,0,0,0)\n",
        "\n",
        "def turn:\n",
        "  set rotation with degrees (45degree)\n",
        "\n",
        "def forward:\n",
        "  sets speed as same for all to go into the direction\n",
        "\n",
        "def reverse:\n",
        "  sets same speed just negative\n",
        "\n",
        "set behaviour:\n",
        "  Random walk/ wander ():\n",
        "    just turn randomly\n",
        "    with every 4/5 sec turn a random degree then go on\n",
        "    while on walk turn the gimbal every 4/5 sec to check for a person\n",
        "  look around\n",
        "    just spin the gimbal if you find person lock ont him\n",
        "    uses. camera& gimbal\n",
        "\n",
        "check conditions:\n",
        "  collision(hit detection):\n",
        "\n",
        "  lost(timer)\n",
        "  find_person:\n",
        "\n",
        "\n",
        "\n",
        "set behaviour:\n",
        "  follow person\n",
        "\n",
        "set behaviour:\n",
        "  light up\n",
        "  lasers"
      ],
      "metadata": {
        "id": "plu0S1uJ-P2p"
      },
      "execution_count": null,
      "outputs": []
    },
    {
      "cell_type": "code",
      "source": [],
      "metadata": {
        "id": "4096BqHUgZw8"
      },
      "execution_count": null,
      "outputs": []
    }
  ]
}